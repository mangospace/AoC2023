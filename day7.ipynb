{
 "cells": [
  {
   "cell_type": "code",
   "execution_count": 39,
   "metadata": {},
   "outputs": [
    {
     "name": "stdout",
     "output_type": "stream",
     "text": [
      "[41, 96, 88, 94]\n",
      "[214, 1789, 1127, 1055]\n",
      "[[41, 214], [96, 1789], [88, 1127], [94, 1055]]\n",
      "[28, 45, 57, 67]\n",
      "28\n",
      "1260\n",
      "71820\n",
      "4811940\n"
     ]
    }
   ],
   "source": [
    "#part1\n",
    " \n",
    "import regex as re\n",
    "with open('day6.txt', 'r') as f:\n",
    "    matom=f.readlines()\n",
    "    listy=[]\n",
    "    for x in matom:\n",
    "        x=re.sub(\"\\n\",\"\",x)\n",
    "        listy.append(x.split(\":\")[1].strip().split())\n",
    "\n",
    "time=[int(x) for x in listy[0]]\n",
    "distance=[int(x) for x in listy[1]]\n",
    "\n",
    "print(time)\n",
    "print(distance)\n",
    "\n",
    "newlist=[]\n",
    "for x,y in zip(time, distance):\n",
    "    newlist.append([x,y])\n",
    "print(newlist)\n",
    "speed=1\n",
    "speedgain=0\n",
    "waystowin=[]\n",
    "for x in newlist:\n",
    "    winstrat=[]\n",
    "    for chargetime in range(0, x[0]+1):\n",
    "        racetime=x[0] - chargetime\n",
    "        speedgain=chargetime*speed\n",
    "        distance= racetime*speedgain\n",
    "        if distance > x[1]:\n",
    "            winstrat.append(distance)\n",
    "#            print(racetime, chargetime, distance)\n",
    "#    print(len(winstrat))\n",
    "    waystowin.append(len(winstrat))\n",
    "print(waystowin)\n",
    "    \n",
    "num=1\n",
    "for x in waystowin:\n",
    "    num=x*num\n",
    "    print(num)\n",
    "    "
   ]
  },
  {
   "cell_type": "code",
   "execution_count": 41,
   "metadata": {},
   "outputs": [
    {
     "name": "stdout",
     "output_type": "stream",
     "text": [
      "[['41968894'], ['214178911271055']]\n",
      "[41968894]\n",
      "[214178911271055]\n"
     ]
    }
   ],
   "source": [
    "#part2\n",
    " \n",
    "import regex as re\n",
    "with open('day6.txt', 'r') as f:\n",
    "    matom=f.readlines()\n",
    "    listy=[]\n",
    "    for x in matom:\n",
    "        x=re.sub(\"\\n\",\"\",x)\n",
    "        x=re.sub(\" \",\"\",x)\n",
    "        listy.append(x.split(\":\")[1].strip().split())\n",
    "print(listy)\n",
    "time=[int(x) for x in listy[0]]\n",
    "distance=[int(x) for x in listy[1]]\n",
    "\n",
    "print(time)\n",
    "print(distance)\n",
    "\n",
    "    "
   ]
  },
  {
   "cell_type": "code",
   "execution_count": 42,
   "metadata": {},
   "outputs": [
    {
     "name": "stdout",
     "output_type": "stream",
     "text": [
      "[[41968894, 214178911271055]]\n",
      "[30077773]\n"
     ]
    }
   ],
   "source": [
    "\n",
    "newlist=[]\n",
    "for x,y in zip(time, distance):\n",
    "    newlist.append([x,y])\n",
    "print(newlist)\n",
    "speed=1\n",
    "speedgain=0\n",
    "waystowin=[]\n",
    "for x in newlist:\n",
    "    winstrat=[]\n",
    "    for chargetime in range(0, x[0]+1):\n",
    "        racetime=x[0] - chargetime\n",
    "        speedgain=chargetime*speed\n",
    "        distance= racetime*speedgain\n",
    "        if distance > x[1]:\n",
    "            winstrat.append(distance)\n",
    "#            print(racetime, chargetime, distance)\n",
    "#    print(len(winstrat))\n",
    "    waystowin.append(len(winstrat))\n",
    "print(waystowin)\n",
    "    \n"
   ]
  }
 ],
 "metadata": {
  "kernelspec": {
   "display_name": "stream",
   "language": "python",
   "name": "python3"
  },
  "language_info": {
   "codemirror_mode": {
    "name": "ipython",
    "version": 3
   },
   "file_extension": ".py",
   "mimetype": "text/x-python",
   "name": "python",
   "nbconvert_exporter": "python",
   "pygments_lexer": "ipython3",
   "version": "3.10.10"
  }
 },
 "nbformat": 4,
 "nbformat_minor": 2
}
