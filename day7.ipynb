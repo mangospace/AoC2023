{
 "cells": [
  {
   "cell_type": "code",
   "execution_count": 18,
   "metadata": {},
   "outputs": [
    {
     "name": "stdout",
     "output_type": "stream",
     "text": [
      "dict_keys(['3', '2', 'T', 'K'])\n",
      "dict_keys(['T', '5', 'J'])\n",
      "dict_keys(['K', '6', '7'])\n",
      "dict_keys(['K', 'T', 'J'])\n",
      "dict_keys(['Q', 'J', 'A'])\n"
     ]
    }
   ],
   "source": [
    "#part1\n",
    "from collections import Counter\n",
    "#c = Counter('gallahad')   \n",
    "#print(c) \n",
    "#import regex as re\n",
    "with open('day7_test.txt', 'r') as f:\n",
    "    matom=f.readlines()\n",
    "for x in matom:\n",
    "    matom=x.split()[0]\n",
    "    c = Counter(matom)   \n",
    "    print(c.keys())\n"
   ]
  },
  {
   "cell_type": "code",
   "execution_count": 41,
   "metadata": {},
   "outputs": [
    {
     "name": "stdout",
     "output_type": "stream",
     "text": [
      "[['41968894'], ['214178911271055']]\n",
      "[41968894]\n",
      "[214178911271055]\n"
     ]
    }
   ],
   "source": [
    "#rules\n",
    "pokerlabel [5]=\"Five of a kind\"\n",
    "pokerlabel [4]=\"Four of a kind\"\n",
    "pokerlabel [3]=\"Full house\"\n",
    "pokerlabel [3]=\"Four of a kind\"\n",
    "\n",
    "Four of a kind, where four cards have the same label and one card has a different label: AA8AA\n",
    "Full house, where three cards have the same label, and the remaining two cards share a different label: 23332\n",
    "Three of a kind, where three cards have the same label, and the remaining two cards are each different from any other card in the hand: TTT98\n",
    "Two pair, where two cards share one label, two other cards share a second label, and the remaining card has a third label: 23432\n",
    "One pair, where two cards share one label, and the other three cards have a different label from the pair and each other: A23A4\n",
    "High card, where all cards' labels are distinct: 23456\n"
   ]
  },
  {
   "cell_type": "code",
   "execution_count": 4,
   "metadata": {},
   "outputs": [
    {
     "name": "stdout",
     "output_type": "stream",
     "text": [
      "Counter({'a': 3, 'l': 2, 'g': 1, 'h': 1, 'd': 1})\n"
     ]
    }
   ],
   "source": [
    "#count sequences alpha numeric sequences and put them in dictionary\n",
    "from collections import Counter\n",
    "c = Counter('matom')   \n",
    "print(c)\n",
    "\n",
    "c = Counter('matom')   \n",
    "print(c)"
   ]
  }
 ],
 "metadata": {
  "kernelspec": {
   "display_name": "stream",
   "language": "python",
   "name": "python3"
  },
  "language_info": {
   "codemirror_mode": {
    "name": "ipython",
    "version": 3
   },
   "file_extension": ".py",
   "mimetype": "text/x-python",
   "name": "python",
   "nbconvert_exporter": "python",
   "pygments_lexer": "ipython3",
   "version": "3.10.10"
  }
 },
 "nbformat": 4,
 "nbformat_minor": 2
}
