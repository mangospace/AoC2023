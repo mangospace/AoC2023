{
 "cells": [
  {
   "cell_type": "code",
   "execution_count": 19,
   "metadata": {},
   "outputs": [
    {
     "name": "stdout",
     "output_type": "stream",
     "text": [
      "[Counter({'3': 2, '2': 1, 'T': 1, 'K': 1}), Counter({'5': 3, 'T': 1, 'J': 1}), Counter({'K': 2, '7': 2, '6': 1}), Counter({'T': 2, 'J': 2, 'K': 1}), Counter({'Q': 3, 'J': 1, 'A': 1})]\n",
      "['32T3K', 'T55J5', 'KK677', 'KTJJT', 'QQQJA']\n"
     ]
    }
   ],
   "source": [
    "from collections import Counter\n",
    "\n",
    "letk=[]\n",
    "handlist=[]\n",
    "betlist=[]\n",
    "import regex as re\n",
    "with open('day7_test.txt', 'r') as f:\n",
    "    matom=f.readlines()\n",
    "    for x in matom:\n",
    "        handlist.append(x.split()[0])\n",
    "        betlist.append(x.split()[1])\n",
    "        a=Counter(x.split()[0])\n",
    "        letk.append(a)\n",
    "    print(letk)\n",
    "print(handlist)\n",
    "    "
   ]
  },
  {
   "cell_type": "code",
   "execution_count": 15,
   "metadata": {},
   "outputs": [
    {
     "name": "stdout",
     "output_type": "stream",
     "text": [
      "{'32T3K': '765', 'T55J5': '684', 'KK677': '28', 'KTJJT': '220', 'QQQJA': '483'}\n"
     ]
    }
   ],
   "source": [
    "handbet = {handlist[i]: betlist[i] for i in range(len(betlist))}\n",
    "print(handbet)"
   ]
  },
  {
   "cell_type": "code",
   "execution_count": 27,
   "metadata": {},
   "outputs": [
    {
     "name": "stdout",
     "output_type": "stream",
     "text": [
      "Counter({'3': 2, '2': 1, 'T': 1, 'K': 1})\n",
      "Counter({'5': 3, 'T': 1, 'J': 1})\n",
      "Counter({'K': 2, '7': 2, '6': 1})\n",
      "Counter({'T': 2, 'J': 2, 'K': 1})\n",
      "Counter({'Q': 3, 'J': 1, 'A': 1})\n"
     ]
    }
   ],
   "source": [
    "for x in letk:\n",
    "    print(x)"
   ]
  },
  {
   "cell_type": "code",
   "execution_count": 92,
   "metadata": {},
   "outputs": [
    {
     "name": "stdout",
     "output_type": "stream",
     "text": [
      "[['32T3K', 765, 2], ['T55J5', 684, 4], ['KK677', 28, 3], ['KTJJT', 220, 3], ['QQQJA', 483, 4]]\n"
     ]
    }
   ],
   "source": [
    "handcount=len(letk)\n",
    "judgement=[]\n",
    "def countX(lst, x):\n",
    "    return lst.count(x)     \n",
    "\n",
    "for index, x in enumerate(letk):\n",
    "    adhoclist=[handlist[index],int(betlist[index])]    \n",
    "#    print(f\"{x=}\") #counter\n",
    "    card_groups=list(x.values())\n",
    "    num_unique_ones=countX(card_groups,1)\n",
    "    num_two_grp=countX(card_groups,2)\n",
    "    num_three_grp=countX(card_groups,3)\n",
    "#    print(f\"{num_unique_ones=}\")\n",
    "#    print(f\"{num_two_grp=}\")\n",
    "#    print(f\"{num_three_grp=}\")\n",
    "    if 5 in x.values():\n",
    "        adhoclist.append(7)#\"Five of a kind\"\n",
    "    if 4 in x.values():\n",
    "        adhoclist.append(6)#\"Four of a kind\")\n",
    "    if 3 in x.values():\n",
    "        if num_two_grp==1:\n",
    "            adhoclist.append(5)#\"Full house\")\n",
    "        else:\n",
    "            adhoclist.append(4)#\"Three of a kind\")\n",
    "    if num_two_grp==2:\n",
    "            adhoclist.append(3)#\"Two pair\")\n",
    "    if num_two_grp==1:\n",
    "        if num_unique_ones==3:\n",
    "            adhoclist.append(2)#\"One pair\")\n",
    "    if num_two_grp==5:\n",
    "            adhoclist.append(1)#\"High card\")\n",
    "    judgement.append(adhoclist) \n",
    "\n",
    "print(judgement)       "
   ]
  },
  {
   "cell_type": "code",
   "execution_count": 69,
   "metadata": {},
   "outputs": [
    {
     "name": "stdout",
     "output_type": "stream",
     "text": [
      "{'A': 14, 'K': 13, 'Q': 12, 'J': 11, 'T': 10, '9': 9, '8': 8, '7': 7, '6': 6, '5': 5, '4': 4, '3': 3, '2': 2}\n"
     ]
    }
   ],
   "source": [
    "cardvalues={'A':14,\n",
    "            'K':13, 'Q':12, 'J':11, 'T':10, '9' :9 , '8':8, '7':7, '6':6, '5':5, '4':4, '3':3, '2':2}\n",
    "print(cardvalues)"
   ]
  },
  {
   "cell_type": "code",
   "execution_count": 93,
   "metadata": {},
   "outputs": [
    {
     "name": "stdout",
     "output_type": "stream",
     "text": [
      "[['32T3K', 765, 3, 2, 10, 3, 13], ['T55J5', 684, 10, 5, 5, 11, 5], ['KK677', 28, 13, 13, 6, 7, 7], ['KTJJT', 220, 13, 10, 11, 11, 10], ['QQQJA', 483, 12, 12, 12, 11, 14]]\n"
     ]
    }
   ],
   "source": [
    "for x in judgement:\n",
    "    x.append(list(x[0]))\n",
    "    for z in x[3]:\n",
    "        x.append(cardvalues[z])\n",
    "#    x.append(x[2])\n",
    "#        templist.append(cardvalues[z])\n",
    "    del x[2:4]\n",
    "print(judgement)"
   ]
  },
  {
   "cell_type": "code",
   "execution_count": 94,
   "metadata": {},
   "outputs": [
    {
     "name": "stdout",
     "output_type": "stream",
     "text": [
      "[['32T3K', 765, 3, 2, 10, 3, 13], ['T55J5', 684, 10, 5, 5, 11, 5], ['QQQJA', 483, 12, 12, 12, 11, 14], ['KTJJT', 220, 13, 10, 11, 11, 10], ['KK677', 28, 13, 13, 6, 7, 7]]\n"
     ]
    }
   ],
   "source": [
    "#create ranking algo\n",
    "#for x in judgement:\n",
    "#    print(x)\n",
    "newlist=sorted(judgement, key=lambda judgement: (judgement[2],judgement[3],judgement[4],judgement[5],judgement[6] ))   # sort by age\n",
    "##s = sorted(s, key = lambda x: (x[1], x[2]))\n",
    "print(newlist)\n"
   ]
  },
  {
   "cell_type": "markdown",
   "metadata": {},
   "source": [
    "Five of a kind, where all five cards have the same label: AAAAA\n",
    "Four of a kind, where four cards have the same label and one card has a different label: AA8AA\n",
    "Full house, where three cards have the same label, and the remaining two cards share a different label: 23332\n",
    "Three of a kind, where three cards have the same label, and the remaining two cards are each different from any other card in the hand: TTT98\n",
    "Two pair, where two cards share one label, two other cards share a second label, and the remaining card has a third label: 23432\n",
    "One pair, where two cards share one label, and the other three cards have a different label from the pair and each other: A23A4\n",
    "High card, where all cards' labels are distinct: 23456"
   ]
  }
 ],
 "metadata": {
  "kernelspec": {
   "display_name": "stream",
   "language": "python",
   "name": "python3"
  },
  "language_info": {
   "codemirror_mode": {
    "name": "ipython",
    "version": 3
   },
   "file_extension": ".py",
   "mimetype": "text/x-python",
   "name": "python",
   "nbconvert_exporter": "python",
   "pygments_lexer": "ipython3",
   "version": "3.11.5"
  }
 },
 "nbformat": 4,
 "nbformat_minor": 2
}
