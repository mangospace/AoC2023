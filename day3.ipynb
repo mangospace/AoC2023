{
 "cells": [
  {
   "cell_type": "code",
   "execution_count": 28,
   "metadata": {},
   "outputs": [
    {
     "name": "stdout",
     "output_type": "stream",
     "text": [
      "line='467..114..\\n'\n",
      "line='...*......\\n'\n",
      "line='..35..633.\\n'\n",
      "line='......#...\\n'\n",
      "line='617*......\\n'\n",
      "line='.....+.58.\\n'\n",
      "line='..592.....\\n'\n",
      "line='......755.\\n'\n",
      "line='...$.*....\\n'\n",
      "line='.664.598..'\n",
      "nulist=[[[0, 1, 2], [5, 6, 7]], [], [[2, 3], [6, 7, 8]], [], [[0, 1, 2]], [[7, 8]], [[2, 3, 4]], [[6, 7, 8]], [], [[1, 2, 3], [5, 6, 7]]]\n",
      "symlist=[[], [[2, 3, 4]], [], [[5, 6, 7]], [[2, 3, 4]], [[4, 5, 6]], [], [], [[2, 3, 4], [4, 5, 6]], []]\n",
      "10\n",
      "{0: '467..114..', 1: '...*......', 2: '..35..633.', 3: '......#...', 4: '617*......', 5: '.....+.58.', 6: '..592.....', 7: '......755.', 8: '...$.*....', 9: '.664.598..'}\n"
     ]
    }
   ],
   "source": [
    "import regex as re\n",
    "symlist=[]\n",
    "nulist=[]\n",
    "\n",
    "p = re.compile(\"[$*+#]\")\n",
    "rowlen=0    \n",
    "#with open('day3_long_test.txt', 'r') as f:\n",
    "linedict={}\n",
    "with open('day3_test.txt', 'r') as f:\n",
    "#with open('day3_short_test.txt', 'r') as f:\n",
    "    for index, line in enumerate(f):\n",
    "        linedict[index]=re.sub(\"\\\\n\",\"\",line)\n",
    "        rowlen+=1\n",
    "        lenline=len(line)\n",
    "        print(f\"{line=}\")\n",
    "        symbolist=[]\n",
    "        if re.findall(\"[$*+#]\",line):\n",
    "            for m in p.finditer(line):\n",
    "                posx1= m.start()\n",
    "                posx2= m.start()\n",
    "                try:\n",
    "                    posx1=posx1-1\n",
    "                    if posx1<0:\n",
    "                        posx1=0\n",
    "                except:\n",
    "                    pass\n",
    "                try:\n",
    "                    posx2=posx2+2\n",
    "                    if posx2>lenline:\n",
    "                        posx2=lenline\n",
    "                except:\n",
    "                    pass\n",
    "                symbolxset=[x for x in range(posx1, posx2)]\n",
    "#                print(f\"{posx1=}, {posx2=}, {symbolxset=}\")\n",
    "                symbolist.append(symbolxset)\n",
    "#                print(f\"{symbolist=}\")\n",
    "                \n",
    "        numlist=[]\n",
    "        if re.findall(\"(\\d+)\",line):\n",
    "            atomz=re.findall(\"(\\d+)\",line)\n",
    "            for z in atomz:\n",
    "                pos1, pos2=0 , 0\n",
    "                pos1, pos2=re.search(z,line).span()\n",
    "                symbolset=[x for x in range(pos1, pos2)]\n",
    "#                print(f\"{pos1=}, {pos2=}, {symbolset=}\")\n",
    "                numlist.append(symbolset)\n",
    "#                print(f\"{numlist=}\")\n",
    "\n",
    "        symlist.append(symbolist)\n",
    "        nulist.append(numlist)\n",
    "\n",
    "print(f\"{nulist=}\")\n",
    "print(f\"{symlist=}\")\n",
    "print(rowlen)\n",
    "print(linedict)\n",
    "        "
   ]
  },
  {
   "cell_type": "code",
   "execution_count": 39,
   "metadata": {},
   "outputs": [
    {
     "name": "stdout",
     "output_type": "stream",
     "text": [
      "numerarray to match a=[0, 1, 2]\n",
      "numrow 0, numinrow=0 , lower=0, upper=2\n",
      "{2}\n",
      "intersection\n",
      "467\n",
      "numerarray to match a=[5, 6, 7]\n",
      "numrow 0, numinrow=1 , lower=0, upper=2\n",
      "set()\n",
      "numerarray to match a=[2, 3]\n",
      "numrow 2, numinrow=0 , lower=1, upper=4\n",
      "{2, 3}\n",
      "intersection\n",
      "35\n",
      "set()\n",
      "numerarray to match a=[6, 7, 8]\n",
      "numrow 2, numinrow=1 , lower=1, upper=4\n",
      "set()\n",
      "{6, 7}\n",
      "intersection\n",
      "633\n",
      "numerarray to match a=[0, 1, 2]\n",
      "numrow 4, numinrow=0 , lower=3, upper=6\n",
      "set()\n",
      "{2}\n",
      "intersection\n",
      "617\n",
      "set()\n",
      "numerarray to match a=[7, 8]\n",
      "numrow 5, numinrow=0 , lower=4, upper=7\n",
      "set()\n",
      "set()\n",
      "numerarray to match a=[2, 3, 4]\n",
      "numrow 6, numinrow=0 , lower=5, upper=8\n",
      "{4}\n",
      "intersection\n",
      "592\n",
      "numerarray to match a=[6, 7, 8]\n",
      "numrow 7, numinrow=0 , lower=6, upper=9\n",
      "set()\n",
      "{6}\n",
      "intersection\n",
      "755\n",
      "numerarray to match a=[1, 2, 3]\n",
      "numrow 9, numinrow=0 , lower=8, upper=10\n",
      "{2, 3}\n",
      "intersection\n",
      "664\n",
      "set()\n",
      "numerarray to match a=[5, 6, 7]\n",
      "numrow 9, numinrow=1 , lower=8, upper=10\n",
      "set()\n",
      "{5, 6}\n",
      "intersection\n",
      "598\n",
      "4361\n"
     ]
    }
   ],
   "source": [
    "sumtotal=0\n",
    "for indexy, z in enumerate(nulist):\n",
    "#    print(f\"{z=}\")\n",
    "    for numinrow, a in enumerate(z):\n",
    "        print(f\"numerarray to match {a=}\")\n",
    "        lower=indexy-1\n",
    "        upper=indexy+2\n",
    "        if lower<0:\n",
    "            lower=0\n",
    "        if upper==1:\n",
    "            upper=2\n",
    "        if upper>rowlen:\n",
    "            upper=rowlen\n",
    "#        for indexx, b in enumerate(symlist):\n",
    "\n",
    "        print(f\"numrow {indexy}, {numinrow=} , {lower=}, {upper=}\")\n",
    "        for indexx in range(lower, upper):\n",
    "#            print(f\"{indexx=}\")\n",
    "            for d, b in enumerate(symlist[indexx]):\n",
    "#                print(f\"{d=}\")\n",
    "#                print(f\"{symlist[indexx]=}\")\n",
    "#                print(f\"symbolarray {b=}\")\n",
    "                print(set(a).intersection(set(b)))\n",
    "                if set(a).intersection(set(b)):\n",
    "#                    print(f\"find {indexy}, {type(a[0])}, {type(a[-1])}\")\n",
    "#                    print(linedict[indexy])\n",
    "                    print(\"intersection\")\n",
    "                    print(linedict[indexy][   int(a[0]) : int(a[-1]+1)  ])\n",
    "                    sumtotal+=int(linedict[indexy][   int(a[0]) : int(a[-1]+1)  ])\n",
    "                 \n",
    "                          \n",
    "                          \n",
    "print(sumtotal)                      \n",
    "        "
   ]
  },
  {
   "cell_type": "code",
   "execution_count": null,
   "metadata": {},
   "outputs": [],
   "source": [
    "        for indexx in range(lower,upper):\n",
    "            print(f\"{symlist[indexx]}\")\n",
    "            print(f\"{indexx=}\")\n",
    "#            for y in x:\n",
    "\n",
    "        print(f\"{a=}\")\n",
    "        lower=indexy-1\n",
    "        upper=indexy+1\n",
    "        if lower<0:\n",
    "            lower=0\n",
    "        if upper>rowlen:\n",
    "            upper=rowlen\n",
    "        print(f\"{lower}, {upper=}, {indexy=}\")\n",
    "        for indexx in range(lower,upper):\n",
    "            print(f\"{symlist[indexx]}\")\n",
    "            print(f\"{indexx=}\")\n",
    "#            for y in x:\n",
    "\n",
    "\n",
    "#        print(set(a).intersection(set(z)))\n",
    "#same line touching\n",
    "        "
   ]
  },
  {
   "cell_type": "code",
   "execution_count": 14,
   "metadata": {},
   "outputs": [
    {
     "name": "stdout",
     "output_type": "stream",
     "text": [
      "0\n",
      "0\n"
     ]
    },
    {
     "ename": "TypeError",
     "evalue": "unhashable type: 'list'",
     "output_type": "error",
     "traceback": [
      "\u001b[0;31m---------------------------------------------------------------------------\u001b[0m",
      "\u001b[0;31mTypeError\u001b[0m                                 Traceback (most recent call last)",
      "\u001b[1;32m/Users/manaskaushik/Documents/AoC2023/day3.ipynb Cell 2\u001b[0m line \u001b[0;36m5\n\u001b[1;32m      <a href='vscode-notebook-cell:/Users/manaskaushik/Documents/AoC2023/day3.ipynb#W1sZmlsZQ%3D%3D?line=2'>3</a>\u001b[0m \u001b[39mfor\u001b[39;00m indexy, y \u001b[39min\u001b[39;00m \u001b[39menumerate\u001b[39m(nulist):\n\u001b[1;32m      <a href='vscode-notebook-cell:/Users/manaskaushik/Documents/AoC2023/day3.ipynb#W1sZmlsZQ%3D%3D?line=3'>4</a>\u001b[0m     \u001b[39mprint\u001b[39m(indexy)\n\u001b[0;32m----> <a href='vscode-notebook-cell:/Users/manaskaushik/Documents/AoC2023/day3.ipynb#W1sZmlsZQ%3D%3D?line=4'>5</a>\u001b[0m     \u001b[39mprint\u001b[39m(\u001b[39mset\u001b[39m(x)\u001b[39m.\u001b[39mintersection(\u001b[39mset\u001b[39m(y)))\n",
      "\u001b[0;31mTypeError\u001b[0m: unhashable type: 'list'"
     ]
    }
   ],
   "source": [
    "for indexx, x in enumerate(symlist):\n",
    "    print(indexx)\n",
    "    for indexy, y in enumerate(nulist):\n",
    "        print(indexy)\n",
    "        print(set(x).intersection(set(y)))"
   ]
  },
  {
   "cell_type": "code",
   "execution_count": 11,
   "metadata": {},
   "outputs": [
    {
     "name": "stdout",
     "output_type": "stream",
     "text": [
      "3 *\n",
      "36 *\n",
      "62 *\n",
      "70 #\n",
      "80 *\n",
      "116 $\n"
     ]
    }
   ],
   "source": [
    "import regex as re\n",
    "line='...*.............................117*...........459........767*648....#.........*...................................$...&..=................\\n'\n",
    "p = re.compile(\"[$*+#]\")\n",
    "\n",
    "if re.findall(\"[$*+#]\",line):\n",
    "    for m in p.finditer(line):\n",
    "        print(m.start(), m.group())\n",
    "\n",
    "\n",
    "\n",
    "    "
   ]
  }
 ],
 "metadata": {
  "kernelspec": {
   "display_name": "stream",
   "language": "python",
   "name": "python3"
  },
  "language_info": {
   "codemirror_mode": {
    "name": "ipython",
    "version": 3
   },
   "file_extension": ".py",
   "mimetype": "text/x-python",
   "name": "python",
   "nbconvert_exporter": "python",
   "pygments_lexer": "ipython3",
   "version": "3.10.10"
  }
 },
 "nbformat": 4,
 "nbformat_minor": 2
}
