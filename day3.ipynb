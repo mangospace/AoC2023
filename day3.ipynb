{
 "cells": [
  {
   "cell_type": "code",
   "execution_count": 60,
   "metadata": {},
   "outputs": [
    {
     "name": "stdout",
     "output_type": "stream",
     "text": [
      "[]\n",
      "line='467..114..\\n'\n",
      "pos1=0, pos2=3, symbolset=[0, 1, 2]\n",
      "numlist=[[0, 1, 2]]\n",
      "pos1=5, pos2=8, symbolset=[5, 6, 7]\n",
      "numlist=[[0, 1, 2], [5, 6, 7]]\n",
      "[]\n",
      "[[0, 1, 2], [5, 6, 7]]\n",
      "['*']\n",
      "line='...*......\\n'\n",
      "atom=['*']\n",
      "line='...*......\\n'\n",
      "posx1=2, posx2=5, symbolxset=[2, 3, 4]\n",
      "symbolxset=[2, 3, 4]\n",
      "symbolist=[[2, 3, 4]]\n",
      "[[2, 3, 4]]\n",
      "[]\n",
      "[]\n",
      "line='..35..633.\\n'\n",
      "pos1=2, pos2=4, symbolset=[2, 3]\n",
      "numlist=[[2, 3]]\n",
      "pos1=6, pos2=9, symbolset=[6, 7, 8]\n",
      "numlist=[[2, 3], [6, 7, 8]]\n",
      "[]\n",
      "[[2, 3], [6, 7, 8]]\n",
      "['#']\n",
      "line='......#...\\n'\n",
      "atom=['#']\n",
      "line='......#...\\n'\n",
      "posx1=5, posx2=8, symbolxset=[5, 6, 7]\n",
      "symbolxset=[5, 6, 7]\n",
      "symbolist=[[5, 6, 7]]\n",
      "[[5, 6, 7]]\n",
      "[]\n",
      "['*']\n",
      "line='617*......\\n'\n",
      "atom=['*']\n",
      "line='617*......\\n'\n",
      "posx1=2, posx2=5, symbolxset=[2, 3, 4]\n",
      "symbolxset=[2, 3, 4]\n",
      "symbolist=[[2, 3, 4]]\n",
      "pos1=0, pos2=3, symbolset=[0, 1, 2]\n",
      "numlist=[[0, 1, 2]]\n",
      "[[2, 3, 4]]\n",
      "[[0, 1, 2]]\n",
      "['+']\n",
      "line='.....+.58.\\n'\n",
      "atom=['+']\n",
      "line='.....+.58.\\n'\n",
      "posx1=4, posx2=7, symbolxset=[4, 5, 6]\n",
      "symbolxset=[4, 5, 6]\n",
      "symbolist=[[4, 5, 6]]\n",
      "pos1=7, pos2=9, symbolset=[7, 8]\n",
      "numlist=[[7, 8]]\n",
      "[[4, 5, 6]]\n",
      "[[7, 8]]\n",
      "[]\n",
      "line='..592.....\\n'\n",
      "pos1=2, pos2=5, symbolset=[2, 3, 4]\n",
      "numlist=[[2, 3, 4]]\n",
      "[]\n",
      "[[2, 3, 4]]\n",
      "[]\n",
      "line='......755.\\n'\n",
      "pos1=6, pos2=9, symbolset=[6, 7, 8]\n",
      "numlist=[[6, 7, 8]]\n",
      "[]\n",
      "[[6, 7, 8]]\n",
      "['$', '*']\n",
      "line='...$.*....\\n'\n",
      "atom=['$', '*']\n",
      "line='...$.*....\\n'\n",
      "posx1=2, posx2=5, symbolxset=[2, 3, 4]\n",
      "symbolxset=[2, 3, 4]\n",
      "symbolist=[[2, 3, 4]]\n",
      "posx1=4, posx2=7, symbolxset=[4, 5, 6]\n",
      "symbolxset=[4, 5, 6]\n",
      "symbolist=[[2, 3, 4], [4, 5, 6]]\n",
      "[[2, 3, 4], [4, 5, 6]]\n",
      "[]\n",
      "[]\n",
      "line='.664.598..'\n",
      "pos1=1, pos2=4, symbolset=[1, 2, 3]\n",
      "numlist=[[1, 2, 3]]\n",
      "pos1=5, pos2=8, symbolset=[5, 6, 7]\n",
      "numlist=[[1, 2, 3], [5, 6, 7]]\n",
      "[]\n",
      "[[1, 2, 3], [5, 6, 7]]\n",
      "[[], [[2, 3, 4]], [], [[5, 6, 7]], [[2, 3, 4]], [[4, 5, 6]], [], [], [[2, 3, 4], [4, 5, 6]], []]\n",
      "[[[0, 1, 2], [5, 6, 7]], [], [[2, 3], [6, 7, 8]], [], [[0, 1, 2]], [[7, 8]], [[2, 3, 4]], [[6, 7, 8]], [], [[1, 2, 3], [5, 6, 7]]]\n"
     ]
    }
   ],
   "source": [
    "import regex as re\n",
    "symlist=[]\n",
    "nulist=[]\n",
    "with open('day3_test.txt', 'r') as f:\n",
    "    for index, line in enumerate(f):\n",
    "        print(re.findall(\"[$*+#]\",line))\n",
    "        lenline=len(line)\n",
    "        print(f\"{line=}\")\n",
    "        symbolist=[]\n",
    "        if re.findall(\"[$*+#]\",line):\n",
    "            atom=re.findall(\"([$*+#])\",line)\n",
    "            print(f\"{atom=}\")\n",
    "            print(f\"{line=}\")\n",
    "            for x in atom:\n",
    "                posx1, posx2=0 ,0\n",
    "                posx1, posx2=re.search(f\"\\{x}\",line).span()\n",
    "                try:\n",
    "                    posx1=posx1-1\n",
    "                    if posx1<0:\n",
    "                        posx1=0\n",
    "                except:\n",
    "                    pass\n",
    "                try:\n",
    "                    posx2=posx2+1\n",
    "                    if posx2>lenline:\n",
    "                        posx2=lenline\n",
    "                except:\n",
    "                    pass\n",
    "                symbolxset=[x for x in range(posx1, posx2)]\n",
    "                print(f\"{posx1=}, {posx2=}, {symbolxset=}\")\n",
    "                print(f\"{symbolxset=}\")\n",
    "                symbolist.append(symbolxset)\n",
    "                print(f\"{symbolist=}\")\n",
    "                \n",
    "        numlist=[]\n",
    "        if re.findall(\"(\\d+)\",line):\n",
    "            atomz=re.findall(\"(\\d+)\",line)\n",
    "            for z in atomz:\n",
    "                pos1, pos2=0 , 0\n",
    "                pos1, pos2=re.search(z,line).span()\n",
    "                symbolset=[x for x in range(pos1, pos2)]\n",
    "                print(f\"{pos1=}, {pos2=}, {symbolset=}\")\n",
    "                numlist.append(symbolset)\n",
    "                print(f\"{numlist=}\")\n",
    "\n",
    "        symlist.append(symbolist)\n",
    "        nulist.append(numlist)\n",
    "\n",
    "print(symlist)\n",
    "print(nulist)\n",
    "        "
   ]
  },
  {
   "cell_type": "code",
   "execution_count": 58,
   "metadata": {},
   "outputs": [
    {
     "name": "stdout",
     "output_type": "stream",
     "text": [
      "[]\n",
      "[[1, 2, 3], [5, 6, 7]]\n"
     ]
    }
   ],
   "source": [
    "print(symbolist)\n",
    "print(numlist)\n",
    "        "
   ]
  },
  {
   "cell_type": "code",
   "execution_count": 31,
   "metadata": {},
   "outputs": [
    {
     "name": "stdout",
     "output_type": "stream",
     "text": [
      "<regex.Match object; span=(3, 4), match='*'>\n"
     ]
    }
   ],
   "source": [
    "print(re.search('\\*','...*......\\n'))\n",
    " \n"
   ]
  },
  {
   "cell_type": "code",
   "execution_count": null,
   "metadata": {},
   "outputs": [],
   "source": []
  }
 ],
 "metadata": {
  "kernelspec": {
   "display_name": "stream",
   "language": "python",
   "name": "python3"
  },
  "language_info": {
   "codemirror_mode": {
    "name": "ipython",
    "version": 3
   },
   "file_extension": ".py",
   "mimetype": "text/x-python",
   "name": "python",
   "nbconvert_exporter": "python",
   "pygments_lexer": "ipython3",
   "version": "3.11.5"
  }
 },
 "nbformat": 4,
 "nbformat_minor": 2
}
