{
 "cells": [
  {
   "cell_type": "code",
   "execution_count": 26,
   "metadata": {},
   "outputs": [
    {
     "name": "stdout",
     "output_type": "stream",
     "text": [
      "line='467..114..\\n'\n",
      "line='...*......\\n'\n",
      "line='..35..633.\\n'\n",
      "[[], [[2, 3, 4]], []]\n",
      "[[[0, 1, 2], [5, 6, 7]], [], [[2, 3], [6, 7, 8]]]\n",
      "3\n"
     ]
    }
   ],
   "source": [
    "import regex as re\n",
    "symlist=[]\n",
    "nulist=[]\n",
    "\n",
    "p = re.compile(\"[$*+#]\")\n",
    "rowlen=0    \n",
    "#with open('day3_long_test.txt', 'r') as f:\n",
    "#with open('day3_test.txt', 'r') as f:\n",
    "with open('day3_short_test.txt', 'r') as f:\n",
    "    for index, line in enumerate(f):\n",
    "        rowlen+=1\n",
    "        lenline=len(line)\n",
    "        print(f\"{line=}\")\n",
    "        symbolist=[]\n",
    "        if re.findall(\"[$*+#]\",line):\n",
    "            for m in p.finditer(line):\n",
    "                posx1= m.start()\n",
    "                posx2= m.start()\n",
    "                try:\n",
    "                    posx1=posx1-1\n",
    "                    if posx1<0:\n",
    "                        posx1=0\n",
    "                except:\n",
    "                    pass\n",
    "                try:\n",
    "                    posx2=posx2+2\n",
    "                    if posx2>lenline:\n",
    "                        posx2=lenline\n",
    "                except:\n",
    "                    pass\n",
    "                symbolxset=[x for x in range(posx1, posx2)]\n",
    "#                print(f\"{posx1=}, {posx2=}, {symbolxset=}\")\n",
    "                symbolist.append(symbolxset)\n",
    "#                print(f\"{symbolist=}\")\n",
    "                \n",
    "        numlist=[]\n",
    "        if re.findall(\"(\\d+)\",line):\n",
    "            atomz=re.findall(\"(\\d+)\",line)\n",
    "            for z in atomz:\n",
    "                pos1, pos2=0 , 0\n",
    "                pos1, pos2=re.search(z,line).span()\n",
    "                symbolset=[x for x in range(pos1, pos2)]\n",
    "#                print(f\"{pos1=}, {pos2=}, {symbolset=}\")\n",
    "                numlist.append(symbolset)\n",
    "#                print(f\"{numlist=}\")\n",
    "\n",
    "        symlist.append(symbolist)\n",
    "        nulist.append(numlist)\n",
    "\n",
    "print(symlist)\n",
    "print(nulist)\n",
    "print(rowlen)\n",
    "        "
   ]
  },
  {
   "cell_type": "code",
   "execution_count": 27,
   "metadata": {},
   "outputs": [
    {
     "name": "stdout",
     "output_type": "stream",
     "text": [
      "z=[[0, 1, 2], [5, 6, 7]]\n",
      "a=[0, 1, 2]\n",
      "0, upper=1, indexy=0\n",
      "[]\n",
      "indexx=0\n",
      "a=[5, 6, 7]\n",
      "0, upper=1, indexy=0\n",
      "[]\n",
      "indexx=0\n",
      "z=[]\n",
      "z=[[2, 3], [6, 7, 8]]\n",
      "a=[2, 3]\n",
      "1, upper=3, indexy=2\n",
      "[[2, 3, 4]]\n",
      "indexx=1\n",
      "[]\n",
      "indexx=2\n",
      "a=[6, 7, 8]\n",
      "1, upper=3, indexy=2\n",
      "[[2, 3, 4]]\n",
      "indexx=1\n",
      "[]\n",
      "indexx=2\n"
     ]
    }
   ],
   "source": [
    "for indexy, z in enumerate(nulist):\n",
    "    print(f\"{z=}\")\n",
    "    for a in z:\n",
    "        print(f\"{a=}\")\n",
    "        lower=indexy-1\n",
    "        upper=indexy+1\n",
    "        if lower<0:\n",
    "            lower=0\n",
    "        if upper>rowlen:\n",
    "            upper=rowlen\n",
    "        print(f\"{lower}, {upper=}, {indexy=}\")\n",
    "        for indexx in range(lower,upper):\n",
    "            print(f\"{symlist[indexx]}\")\n",
    "            print(f\"{indexx=}\")\n",
    "#            for y in x:\n",
    "\n",
    "\n",
    "#        print(set(a).intersection(set(z)))\n",
    "#same line touching\n",
    "        "
   ]
  },
  {
   "cell_type": "code",
   "execution_count": 14,
   "metadata": {},
   "outputs": [
    {
     "name": "stdout",
     "output_type": "stream",
     "text": [
      "0\n",
      "0\n"
     ]
    },
    {
     "ename": "TypeError",
     "evalue": "unhashable type: 'list'",
     "output_type": "error",
     "traceback": [
      "\u001b[0;31m---------------------------------------------------------------------------\u001b[0m",
      "\u001b[0;31mTypeError\u001b[0m                                 Traceback (most recent call last)",
      "\u001b[1;32m/Users/manaskaushik/Documents/AoC2023/day3.ipynb Cell 2\u001b[0m line \u001b[0;36m5\n\u001b[1;32m      <a href='vscode-notebook-cell:/Users/manaskaushik/Documents/AoC2023/day3.ipynb#W1sZmlsZQ%3D%3D?line=2'>3</a>\u001b[0m \u001b[39mfor\u001b[39;00m indexy, y \u001b[39min\u001b[39;00m \u001b[39menumerate\u001b[39m(nulist):\n\u001b[1;32m      <a href='vscode-notebook-cell:/Users/manaskaushik/Documents/AoC2023/day3.ipynb#W1sZmlsZQ%3D%3D?line=3'>4</a>\u001b[0m     \u001b[39mprint\u001b[39m(indexy)\n\u001b[0;32m----> <a href='vscode-notebook-cell:/Users/manaskaushik/Documents/AoC2023/day3.ipynb#W1sZmlsZQ%3D%3D?line=4'>5</a>\u001b[0m     \u001b[39mprint\u001b[39m(\u001b[39mset\u001b[39m(x)\u001b[39m.\u001b[39mintersection(\u001b[39mset\u001b[39m(y)))\n",
      "\u001b[0;31mTypeError\u001b[0m: unhashable type: 'list'"
     ]
    }
   ],
   "source": [
    "for indexx, x in enumerate(symlist):\n",
    "    print(indexx)\n",
    "    for indexy, y in enumerate(nulist):\n",
    "        print(indexy)\n",
    "        print(set(x).intersection(set(y)))"
   ]
  },
  {
   "cell_type": "code",
   "execution_count": 11,
   "metadata": {},
   "outputs": [
    {
     "name": "stdout",
     "output_type": "stream",
     "text": [
      "3 *\n",
      "36 *\n",
      "62 *\n",
      "70 #\n",
      "80 *\n",
      "116 $\n"
     ]
    }
   ],
   "source": [
    "import regex as re\n",
    "line='...*.............................117*...........459........767*648....#.........*...................................$...&..=................\\n'\n",
    "p = re.compile(\"[$*+#]\")\n",
    "\n",
    "if re.findall(\"[$*+#]\",line):\n",
    "    for m in p.finditer(line):\n",
    "        print(m.start(), m.group())\n",
    "\n",
    "\n",
    "\n",
    "    "
   ]
  }
 ],
 "metadata": {
  "kernelspec": {
   "display_name": "stream",
   "language": "python",
   "name": "python3"
  },
  "language_info": {
   "codemirror_mode": {
    "name": "ipython",
    "version": 3
   },
   "file_extension": ".py",
   "mimetype": "text/x-python",
   "name": "python",
   "nbconvert_exporter": "python",
   "pygments_lexer": "ipython3",
   "version": "3.10.10"
  }
 },
 "nbformat": 4,
 "nbformat_minor": 2
}
